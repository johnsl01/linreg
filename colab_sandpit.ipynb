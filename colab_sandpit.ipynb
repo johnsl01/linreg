{
  "nbformat": 4,
  "nbformat_minor": 0,
  "metadata": {
    "colab": {
      "name": "colab-sandpit.ipynb",
      "provenance": [],
      "include_colab_link": true
    },
    "kernelspec": {
      "name": "python3",
      "display_name": "Python 3"
    }
  },
  "cells": [
    {
      "cell_type": "markdown",
      "metadata": {
        "id": "view-in-github",
        "colab_type": "text"
      },
      "source": [
        "<a href=\"https://colab.research.google.com/github/johnsl01/linreg/blob/master/colab_sandpit.ipynb\" target=\"_parent\"><img src=\"https://colab.research.google.com/assets/colab-badge.svg\" alt=\"Open In Colab\"/></a>"
      ]
    },
    {
      "cell_type": "code",
      "metadata": {
        "id": "C7H-2ymoZLGo",
        "colab_type": "code",
        "colab": {}
      },
      "source": [
        "###########################################\n",
        "#@title             IMPORTS               #\n",
        "mytext1 = \"test 1\" #@param {type:\"string\"}\n",
        "###########################################\n",
        "\n",
        "import numpy as np\n",
        "\n",
        "print (mytext1)\n",
        "print (len(mytext1))\n",
        "\n",
        "mytext2 = \"test 2\" #@param {type:\"string\"}\n",
        "\n",
        "\n",
        "print (mytext2)\n",
        "print (len(mytext2))"
      ],
      "execution_count": 0,
      "outputs": []
    }
  ]
}