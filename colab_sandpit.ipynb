{
  "nbformat": 4,
  "nbformat_minor": 0,
  "metadata": {
    "colab": {
      "name": "colab-sandpit.ipynb",
      "provenance": [],
      "include_colab_link": true
    },
    "kernelspec": {
      "name": "python3",
      "display_name": "Python 3"
    }
  },
  "cells": [
    {
      "cell_type": "markdown",
      "metadata": {
        "id": "view-in-github",
        "colab_type": "text"
      },
      "source": [
        "<a href=\"https://colab.research.google.com/github/johnsl01/linreg/blob/master/colab_sandpit.ipynb\" target=\"_parent\"><img src=\"https://colab.research.google.com/assets/colab-badge.svg\" alt=\"Open In Colab\"/></a>"
      ]
    },
    {
      "cell_type": "code",
      "metadata": {
        "id": "C7H-2ymoZLGo",
        "colab_type": "code",
        "colab": {}
      },
      "source": [
        "###########################################\n",
        "#@title           _#@ tags_               #\n",
        "###########################################\n",
        "\n",
        "myvar1 = \"test 1\" #@param {type:\"string\"}\n",
        "print (myvar1)\n",
        "print (len(myvar1))\n",
        "\n",
        "myvar2 = 1 #@param [\"1\", \"2\", \"\\\"String1\\\"\"] {type:\"raw\", allow-input: true}\n",
        "\n",
        "\n",
        "print (myvar2)\n"
      ],
      "execution_count": 0,
      "outputs": []
    }
  ]
}